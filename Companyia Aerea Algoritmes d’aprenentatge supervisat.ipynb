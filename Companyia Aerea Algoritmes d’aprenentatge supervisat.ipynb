{
  "nbformat": 4,
  "nbformat_minor": 0,
  "metadata": {
    "colab": {
      "provenance": [],
      "authorship_tag": "ABX9TyO9kFDVwnE8YIAM6D5wayqI",
      "include_colab_link": true
    },
    "kernelspec": {
      "name": "python3",
      "display_name": "Python 3"
    },
    "language_info": {
      "name": "python"
    }
  },
  "cells": [
    {
      "cell_type": "markdown",
      "metadata": {
        "id": "view-in-github",
        "colab_type": "text"
      },
      "source": [
        "<a href=\"https://colab.research.google.com/github/JMML2021/Avaluaci-final-per-passar-a-projecte/blob/main/Companyia%20Aerea%20Algoritmes%20d%E2%80%99aprenentatge%20supervisat.ipynb\" target=\"_parent\"><img src=\"https://colab.research.google.com/assets/colab-badge.svg\" alt=\"Open In Colab\"/></a>"
      ]
    },
    {
      "cell_type": "code",
      "execution_count": null,
      "metadata": {
        "id": "RtI5OZK9WhHN"
      },
      "outputs": [],
      "source": []
    },
    {
      "cell_type": "markdown",
      "source": [
        "/content/drive/MyDrive/Ficheros de Vueling/2022-09-20 14:39:04.960091 FLT_2022.xlsx"
      ],
      "metadata": {
        "id": "GfljkzgUWh8T"
      }
    },
    {
      "cell_type": "code",
      "source": [
        "import numpy as np\n",
        "import matplotlib.pyplot as plt \n",
        "\n",
        "import pandas as pd  \n",
        "import seaborn as sns \n",
        "\n",
        "%matplotlib inline\n",
        "\n",
        "\n",
        "from sklearn.manifold import TSNE\n",
        "from sklearn.decomposition import PCA\n",
        "from sklearn.ensemble import RandomForestClassifier\n",
        "from sklearn.metrics import accuracy_score, confusion_matrix\n",
        "from sklearn.model_selection import train_test_split, cross_val_score"
      ],
      "metadata": {
        "id": "R3JyLfVYWkFt"
      },
      "execution_count": 1,
      "outputs": []
    },
    {
      "cell_type": "code",
      "source": [
        "# Configuración warnings\n",
        "# ==============================================================================\n",
        "import warnings\n",
        "warnings.filterwarnings('ignore')"
      ],
      "metadata": {
        "id": "4Z4jHg8-WlDZ"
      },
      "execution_count": 2,
      "outputs": []
    },
    {
      "cell_type": "code",
      "source": [
        "# Activo Google Drive\n",
        "\n",
        "from google.colab import drive\n",
        "drive.mount('/content/drive')"
      ],
      "metadata": {
        "colab": {
          "base_uri": "https://localhost:8080/"
        },
        "id": "BqoqEb8nWmsH",
        "outputId": "9382d4df-0302-4d1b-f7fe-dc714ad3aff9"
      },
      "execution_count": 3,
      "outputs": [
        {
          "output_type": "stream",
          "name": "stdout",
          "text": [
            "Mounted at /content/drive\n"
          ]
        }
      ]
    },
    {
      "cell_type": "code",
      "source": [
        "# Abro el fichero\n",
        "''' \n",
        "path = ('/content/drive/MyDrive/Ficheros de Vueling/2022-09-20 14:39:04.960091 FLT_2022.xlsx')\n",
        "\n",
        "    \n",
        "df=  pd.read_csv(path, sep=',', encoding=\"latin-1\")\n",
        "df.shape\n",
        "\n",
        "nRow, nCol = df.shape\n",
        "print(f'Hay  {nRow} filas con {nCol} columnas')\n",
        "df1=df.copy()\n",
        "print('\\nImprimo el primer registro, solo para ver como es:\\n')\n",
        "df1.iloc[0]\n",
        "'''"
      ],
      "metadata": {
        "colab": {
          "base_uri": "https://localhost:8080/",
          "height": 52
        },
        "id": "lMOemQkuWqG9",
        "outputId": "5a49e6c0-e7b1-41ae-d761-7ea63175c552"
      },
      "execution_count": 4,
      "outputs": [
        {
          "output_type": "execute_result",
          "data": {
            "text/plain": [
              "' \\npath = (\\'/content/drive/MyDrive/Ficheros de Vueling/2022-09-20 14:39:04.960091 FLT_2022.xlsx\\')\\n\\n    \\ndf=  pd.read_csv(path, sep=\\',\\', encoding=\"latin-1\")\\ndf.shape\\n\\nnRow, nCol = df.shape\\nprint(f\\'Hay  {nRow} filas con {nCol} columnas\\')\\ndf1=df.copy()\\nprint(\\'\\nImprimo el primer registro, solo para ver como es:\\n\\')\\ndf1.iloc[0]\\n'"
            ],
            "application/vnd.google.colaboratory.intrinsic+json": {
              "type": "string"
            }
          },
          "metadata": {},
          "execution_count": 4
        }
      ]
    },
    {
      "cell_type": "code",
      "source": [
        "# Abrir fichero de Github.\n",
        "#path='/content/drive/MyDrive/2022.06.03 2022_delay + cierre puertas CORTO.xlsx'\n",
        "Hoja = 'FLT_2022'\n",
        "path = ('/content/drive/MyDrive/Ficheros de Vueling/2022-09-20 14:39:04.960091 FLT_2022.xlsx')\n",
        "\n",
        "df = pd.read_excel(path) #, sheet_name=Hoja)\n"
      ],
      "metadata": {
        "id": "XeUq-egmW20a"
      },
      "execution_count": 6,
      "outputs": []
    },
    {
      "cell_type": "code",
      "source": [
        "df.info()"
      ],
      "metadata": {
        "colab": {
          "base_uri": "https://localhost:8080/"
        },
        "id": "W7Ou3ksAXSLB",
        "outputId": "47e90261-7855-48bc-9cf9-c882714cf22f"
      },
      "execution_count": 9,
      "outputs": [
        {
          "output_type": "stream",
          "name": "stdout",
          "text": [
            "<class 'pandas.core.frame.DataFrame'>\n",
            "RangeIndex: 12358 entries, 0 to 12357\n",
            "Data columns (total 94 columns):\n",
            " #   Column                           Non-Null Count  Dtype         \n",
            "---  ------                           --------------  -----         \n",
            " 0   Unnamed: 0                       12358 non-null  int64         \n",
            " 1   DATE                             12358 non-null  datetime64[ns]\n",
            " 2   FLT                              12358 non-null  object        \n",
            " 3   REG                              12358 non-null  object        \n",
            " 4   AC                               12358 non-null  object        \n",
            " 5   DEP                              12358 non-null  object        \n",
            " 6   ARR                              12358 non-null  object        \n",
            " 7   STD                              12358 non-null  datetime64[ns]\n",
            " 8   STA                              12358 non-null  datetime64[ns]\n",
            " 9   TKof                             12358 non-null  datetime64[ns]\n",
            " 10  TDwn                             12358 non-null  datetime64[ns]\n",
            " 11  ATD                              12358 non-null  datetime64[ns]\n",
            " 12  ATA                              12357 non-null  datetime64[ns]\n",
            " 13  BLOCK                            12358 non-null  datetime64[ns]\n",
            " 14  FLThr                            12358 non-null  datetime64[ns]\n",
            " 15  DStand                           12358 non-null  object        \n",
            " 16  AStand                           12358 non-null  object        \n",
            " 17  ACT PAX                          12358 non-null  int64         \n",
            " 18  LF                               12358 non-null  int64         \n",
            " 19  Taxi-out                         12358 non-null  object        \n",
            " 20  Taxi-In                          12358 non-null  object        \n",
            " 21  SLOT                             12358 non-null  object        \n",
            " 22  C1                               12358 non-null  object        \n",
            " 23  DLY1                             12358 non-null  object        \n",
            " 24  Sub1                             12358 non-null  object        \n",
            " 25  C2                               12358 non-null  object        \n",
            " 26  DLY2                             12358 non-null  object        \n",
            " 27  Sub2                             12358 non-null  object        \n",
            " 28  C3                               12358 non-null  object        \n",
            " 29  DLY3                             12358 non-null  object        \n",
            " 30  Sub3                             12358 non-null  object        \n",
            " 31  C4                               12358 non-null  object        \n",
            " 32  DLY4                             12358 non-null  object        \n",
            " 33  Sub4                             12358 non-null  object        \n",
            " 34  C1Arr                            12358 non-null  object        \n",
            " 35  DLY1Arr                          2989 non-null   object        \n",
            " 36  Close Pax Door                   12247 non-null  datetime64[ns]\n",
            " 37  Close Cargo Door                 12247 non-null  datetime64[ns]\n",
            " 38  Open Cargo/Pax Door              11094 non-null  datetime64[ns]\n",
            " 39  close pax door2                  12247 non-null  datetime64[ns]\n",
            " 40  close cargo door2                12247 non-null  datetime64[ns]\n",
            " 41  open cargo/pax door2             11094 non-null  object        \n",
            " 42  Secuencia                        12358 non-null  int64         \n",
            " 43  MES                              12358 non-null  int64         \n",
            " 44  Setmana                          12358 non-null  int64         \n",
            " 45  DiaSetmana                       12358 non-null  int64         \n",
            " 46  DiaSetmanaName                   12358 non-null  object        \n",
            " 47  Aeropuerto_Key                   12358 non-null  object        \n",
            " 48  AeropuertoKey1                   12358 non-null  object        \n",
            " 49  t_ClosePax                       12247 non-null  float64       \n",
            " 50  t_Close_Cargo_Door               12247 non-null  float64       \n",
            " 51  t_Entre_Puertas                  12247 non-null  float64       \n",
            " 52  Retardo_Abrir_Puerta_Pax         11093 non-null  float64       \n",
            " 53  Trayecto                         12358 non-null  object        \n",
            " 54  E_Despegue                       12358 non-null  int64         \n",
            " 55  lag_STD                          12358 non-null  datetime64[ns]\n",
            " 56  lag_ATD                          12358 non-null  datetime64[ns]\n",
            " 57  lag_STA                          12358 non-null  datetime64[ns]\n",
            " 58  lag_ATA                          12358 non-null  datetime64[ns]\n",
            " 59  lag_ACT PAX                      12358 non-null  int64         \n",
            " 60  lag_Secuencia                    12358 non-null  int64         \n",
            " 61  lag_REG                          12358 non-null  object        \n",
            " 62  T_teoricoTierra1                 12358 non-null  int64         \n",
            " 63  T_RealTierra1                    12357 non-null  float64       \n",
            " 64  E_tierra1                        12357 non-null  float64       \n",
            " 65  Puntualidad1                     12357 non-null  float64       \n",
            " 66  Total_PAX_Boarding               12358 non-null  int64         \n",
            " 67  T_Medio_Boarding                 12356 non-null  float64       \n",
            " 68  Taxi_Despegue                    12358 non-null  int64         \n",
            " 69  Taxi_Aterrizaje                  12357 non-null  float64       \n",
            " 70  DuracionVueloTeorico             12358 non-null  int64         \n",
            " 71  DuracionVueloReal                12357 non-null  float64       \n",
            " 72  E_Duracion_Vuelo                 12357 non-null  float64       \n",
            " 73  E_Despegue2                      12358 non-null  int64         \n",
            " 74  E_Despegue3                      12357 non-null  float64       \n",
            " 75  E_Despegue4                      12358 non-null  int64         \n",
            " 76  E_Duracion_Vuelo2                12358 non-null  int64         \n",
            " 77  E_Duracion_Vuelo3                12357 non-null  float64       \n",
            " 78  E_Duracion_Vuelo4                12358 non-null  int64         \n",
            " 79  E_tierra2                        12357 non-null  float64       \n",
            " 80  E_tierra3                        12358 non-null  int64         \n",
            " 81  E_tierra4                        12358 non-null  int64         \n",
            " 82  Aeropuerto_Key2                  12358 non-null  object        \n",
            " 83  Aeropuerto_Key3                  12358 non-null  object        \n",
            " 84  Aeropuerto_Key4                  12358 non-null  object        \n",
            " 85  Puntualidad2                     12358 non-null  int64         \n",
            " 86  Puntualidad3                     12358 non-null  int64         \n",
            " 87  Puntualidad4                     12358 non-null  int64         \n",
            " 88  E_Despegue_Total                 12357 non-null  float64       \n",
            " 89  E_Duracion_Vuelo_Total           12356 non-null  float64       \n",
            " 90  E_tierra_Total                   12356 non-null  float64       \n",
            " 91  E_acumulado_Total                12356 non-null  float64       \n",
            " 92  Trajecto                         12343 non-null  object        \n",
            " 93  retardoOperturaPuertaAterrizaje  11093 non-null  float64       \n",
            "dtypes: datetime64[ns](18), float64(19), int64(23), object(34)\n",
            "memory usage: 8.9+ MB\n"
          ]
        }
      ]
    }
  ]
}